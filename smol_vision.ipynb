{
  "cells": [
    {
      "cell_type": "markdown",
      "metadata": {
        "id": "view-in-github",
        "colab_type": "text"
      },
      "source": [
        "<a href=\"https://colab.research.google.com/github/colesmcintosh/smol-vision/blob/main/smol_vision.ipynb\" target=\"_parent\"><img src=\"https://colab.research.google.com/assets/colab-badge.svg\" alt=\"Open In Colab\"/></a>"
      ]
    },
    {
      "cell_type": "code",
      "execution_count": null,
      "metadata": {
        "id": "4j5ucLuor2mc"
      },
      "outputs": [],
      "source": [
        "!pip install langgraph langchain_ollama langchain ollama"
      ]
    },
    {
      "cell_type": "code",
      "execution_count": null,
      "metadata": {
        "id": "ZQ0EnLLCr2me"
      },
      "outputs": [],
      "source": [
        "from langchain_ollama import ChatOllama\n",
        "from langchain_core.pydantic_v1 import BaseModel, Field\n",
        "from typing import TypedDict\n",
        "\n",
        "llama_8b = ChatOllama(model=\"llama3.1:8b\")\n",
        "\n",
        "class ImageSchema(BaseModel):\n",
        "    creative_title: str = Field(description=\"The creative title of the image\")\n",
        "    subject: str = Field(description=\"The subject of the image\")\n",
        "    colors: list = Field(description=\"The colors in the image\")\n",
        "    setting: str = Field(description=\"The setting of the image\")\n",
        "\n",
        "structured_llama = llama_8b.with_structured_output(ImageSchema)"
      ]
    },
    {
      "cell_type": "code",
      "execution_count": null,
      "metadata": {
        "id": "5X_RpjpMr2me"
      },
      "outputs": [],
      "source": [
        "def extract_data(image_description):\n",
        "    prompt = f\"\"\"\n",
        "    Extract the following data from the image description:\n",
        "    Creative Title (str): a creative title for the image\n",
        "    Subject (str): the subject of the image\n",
        "    Colors (List[str]): the colors in the image\n",
        "    Setting (str): the setting of the image\n",
        "    ---\n",
        "    Image Description: \"{image_description}\"\n",
        "    \"\"\"\n",
        "    return structured_llama.invoke(prompt)"
      ]
    },
    {
      "cell_type": "code",
      "execution_count": null,
      "metadata": {
        "id": "3VzkHuxNr2me"
      },
      "outputs": [],
      "source": [
        "import ollama\n",
        "\n",
        "def describe_image(image_path):\n",
        "\tres = ollama.chat(\n",
        "\t\tmodel=\"moondream\",\n",
        "\t\tmessages=[\n",
        "\t\t\t{\n",
        "\t\t\t\t'role': 'user',\n",
        "\t\t\t\t'content': \"\"\"Describe the image in as much detail as possible.\"\"\"\n",
        "\t\t\t},\n",
        "\t\t\t{\n",
        "\t\t\t\t'images': [image_path]\n",
        "\t\t\t}\n",
        "\t\t]\n",
        "\t)\n",
        "\n",
        "\treturn res['message']['content']"
      ]
    },
    {
      "cell_type": "code",
      "execution_count": null,
      "metadata": {
        "id": "oo-CfGrUr2mf"
      },
      "outputs": [],
      "source": [
        "class AgentState(TypedDict):\n",
        "    image_path: str\n",
        "    image_description: str\n",
        "    image_data: ImageSchema"
      ]
    },
    {
      "cell_type": "code",
      "execution_count": null,
      "metadata": {
        "id": "MygRClgsr2mf"
      },
      "outputs": [],
      "source": [
        "from langgraph.graph import END, StateGraph, START\n",
        "\n",
        "# Define a new graph\n",
        "workflow = StateGraph(AgentState)\n",
        "\n",
        "def generate_description(state):\n",
        "    state['image_description'] = describe_image(state['image_path'])\n",
        "    return state\n",
        "\n",
        "def extract_data(state):\n",
        "    state['image_data'] = structured_llama.invoke(state['image_description'])\n",
        "    return state\n",
        "\n",
        "workflow.add_node('generate_description', generate_description)\n",
        "workflow.add_node('extract_data', extract_data)\n",
        "\n",
        "workflow.add_edge(START, 'generate_description')\n",
        "workflow.add_edge('generate_description', 'extract_data')\n",
        "workflow.add_edge('extract_data', END)\n",
        "\n",
        "agent = workflow.compile()"
      ]
    },
    {
      "cell_type": "code",
      "execution_count": null,
      "metadata": {
        "id": "C-s5ss_er2mf"
      },
      "outputs": [],
      "source": [
        "result = agent.invoke({'image_path': 'sweat_suit_cat.jpeg'})"
      ]
    },
    {
      "cell_type": "code",
      "execution_count": null,
      "metadata": {
        "id": "8WS4waJ6r2mf",
        "outputId": "ee00de1b-5b13-44a9-deb6-905d6e3c3af0"
      },
      "outputs": [
        {
          "name": "stdout",
          "output_type": "stream",
          "text": [
            "{'image_path': 'images/sweat_suit_cat.jpeg', 'image_description': '\\nThe image shows a cat walking down the street in a gray hoodie. The cat appears to be wearing a sweater, giving it an adorable and unique appearance. In the background, there are several people visible on the sidewalk, going about their day. One person is carrying a handbag, while another has a backpack. The scene captures the essence of everyday life in a city setting.', 'image_data': ImageSchema(creative_title='Whiskers on the Move', subject='Cat', colors=['Gray', 'Brown'], setting='City Street')}\n"
          ]
        }
      ],
      "source": [
        "print(result)"
      ]
    },
    {
      "cell_type": "code",
      "execution_count": null,
      "metadata": {
        "id": "j01znyH7r2mf",
        "outputId": "d3016c45-b63e-47ca-f8b2-6825de0130f0"
      },
      "outputs": [
        {
          "name": "stdout",
          "output_type": "stream",
          "text": [
            "Creative Title: Whiskers on the Move\n",
            "Subject: Cat\n",
            "Colors: Gray, Brown\n",
            "Setting: City Street\n"
          ]
        }
      ],
      "source": [
        "print(f\"Creative Title: {result['image_data'].creative_title}\")\n",
        "print(f\"Subject: {result['image_data'].subject}\")\n",
        "print(f\"Colors: {', '.join(result['image_data'].colors)}\")\n",
        "print(f\"Setting: {result['image_data'].setting}\")"
      ]
    }
  ],
  "metadata": {
    "kernelspec": {
      "display_name": "pay-ready-data-science",
      "language": "python",
      "name": "python3"
    },
    "language_info": {
      "codemirror_mode": {
        "name": "ipython",
        "version": 3
      },
      "file_extension": ".py",
      "mimetype": "text/x-python",
      "name": "python",
      "nbconvert_exporter": "python",
      "pygments_lexer": "ipython3",
      "version": "3.11.9"
    },
    "colab": {
      "provenance": [],
      "include_colab_link": true
    }
  },
  "nbformat": 4,
  "nbformat_minor": 0
}