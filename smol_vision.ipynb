{
  "cells": [
    {
      "cell_type": "markdown",
      "metadata": {
        "id": "view-in-github",
        "colab_type": "text"
      },
      "source": [
        "<a href=\"https://colab.research.google.com/github/colesmcintosh/smol-vision/blob/main/smol_vision.ipynb\" target=\"_parent\"><img src=\"https://colab.research.google.com/assets/colab-badge.svg\" alt=\"Open In Colab\"/></a>"
      ]
    },
    {
      "cell_type": "code",
      "execution_count": null,
      "metadata": {
        "id": "4j5ucLuor2mc",
        "outputId": "7b6b8e3e-2742-478c-be38-c94acb43ba09"
      },
      "outputs": [
        {
          "name": "stdout",
          "output_type": "stream",
          "text": [
            "Requirement already satisfied: langgraph in /Users/colemcintosh/miniconda3/envs/pay-ready-data-science/lib/python3.11/site-packages (0.2.3)\n",
            "Requirement already satisfied: langchain_ollama in /Users/colemcintosh/miniconda3/envs/pay-ready-data-science/lib/python3.11/site-packages (0.1.1)\n",
            "Requirement already satisfied: langchain in /Users/colemcintosh/miniconda3/envs/pay-ready-data-science/lib/python3.11/site-packages (0.2.13)\n",
            "Requirement already satisfied: ollama in /Users/colemcintosh/miniconda3/envs/pay-ready-data-science/lib/python3.11/site-packages (0.3.1)\n",
            "Requirement already satisfied: langchain-core<0.3,>=0.2.27 in /Users/colemcintosh/miniconda3/envs/pay-ready-data-science/lib/python3.11/site-packages (from langgraph) (0.2.30)\n",
            "Requirement already satisfied: langgraph-checkpoint<2.0.0,>=1.0.2 in /Users/colemcintosh/miniconda3/envs/pay-ready-data-science/lib/python3.11/site-packages (from langgraph) (1.0.2)\n",
            "Requirement already satisfied: PyYAML>=5.3 in /Users/colemcintosh/miniconda3/envs/pay-ready-data-science/lib/python3.11/site-packages (from langchain) (6.0.2)\n",
            "Requirement already satisfied: SQLAlchemy<3,>=1.4 in /Users/colemcintosh/miniconda3/envs/pay-ready-data-science/lib/python3.11/site-packages (from langchain) (2.0.32)\n",
            "Requirement already satisfied: aiohttp<4.0.0,>=3.8.3 in /Users/colemcintosh/miniconda3/envs/pay-ready-data-science/lib/python3.11/site-packages (from langchain) (3.10.1)\n",
            "Requirement already satisfied: langchain-text-splitters<0.3.0,>=0.2.0 in /Users/colemcintosh/miniconda3/envs/pay-ready-data-science/lib/python3.11/site-packages (from langchain) (0.2.2)\n",
            "Requirement already satisfied: langsmith<0.2.0,>=0.1.17 in /Users/colemcintosh/miniconda3/envs/pay-ready-data-science/lib/python3.11/site-packages (from langchain) (0.1.98)\n",
            "Requirement already satisfied: numpy<2,>=1 in /Users/colemcintosh/miniconda3/envs/pay-ready-data-science/lib/python3.11/site-packages (from langchain) (1.26.4)\n",
            "Requirement already satisfied: pydantic<3,>=1 in /Users/colemcintosh/miniconda3/envs/pay-ready-data-science/lib/python3.11/site-packages (from langchain) (2.8.2)\n",
            "Requirement already satisfied: requests<3,>=2 in /Users/colemcintosh/miniconda3/envs/pay-ready-data-science/lib/python3.11/site-packages (from langchain) (2.32.3)\n",
            "Requirement already satisfied: tenacity!=8.4.0,<9.0.0,>=8.1.0 in /Users/colemcintosh/miniconda3/envs/pay-ready-data-science/lib/python3.11/site-packages (from langchain) (8.5.0)\n",
            "Requirement already satisfied: httpx<0.28.0,>=0.27.0 in /Users/colemcintosh/miniconda3/envs/pay-ready-data-science/lib/python3.11/site-packages (from ollama) (0.27.0)\n",
            "Requirement already satisfied: aiohappyeyeballs>=2.3.0 in /Users/colemcintosh/miniconda3/envs/pay-ready-data-science/lib/python3.11/site-packages (from aiohttp<4.0.0,>=3.8.3->langchain) (2.3.5)\n",
            "Requirement already satisfied: aiosignal>=1.1.2 in /Users/colemcintosh/miniconda3/envs/pay-ready-data-science/lib/python3.11/site-packages (from aiohttp<4.0.0,>=3.8.3->langchain) (1.3.1)\n",
            "Requirement already satisfied: attrs>=17.3.0 in /Users/colemcintosh/miniconda3/envs/pay-ready-data-science/lib/python3.11/site-packages (from aiohttp<4.0.0,>=3.8.3->langchain) (24.2.0)\n",
            "Requirement already satisfied: frozenlist>=1.1.1 in /Users/colemcintosh/miniconda3/envs/pay-ready-data-science/lib/python3.11/site-packages (from aiohttp<4.0.0,>=3.8.3->langchain) (1.4.1)\n",
            "Requirement already satisfied: multidict<7.0,>=4.5 in /Users/colemcintosh/miniconda3/envs/pay-ready-data-science/lib/python3.11/site-packages (from aiohttp<4.0.0,>=3.8.3->langchain) (6.0.5)\n",
            "Requirement already satisfied: yarl<2.0,>=1.0 in /Users/colemcintosh/miniconda3/envs/pay-ready-data-science/lib/python3.11/site-packages (from aiohttp<4.0.0,>=3.8.3->langchain) (1.9.4)\n",
            "Requirement already satisfied: anyio in /Users/colemcintosh/miniconda3/envs/pay-ready-data-science/lib/python3.11/site-packages (from httpx<0.28.0,>=0.27.0->ollama) (4.4.0)\n",
            "Requirement already satisfied: certifi in /Users/colemcintosh/miniconda3/envs/pay-ready-data-science/lib/python3.11/site-packages (from httpx<0.28.0,>=0.27.0->ollama) (2024.7.4)\n",
            "Requirement already satisfied: httpcore==1.* in /Users/colemcintosh/miniconda3/envs/pay-ready-data-science/lib/python3.11/site-packages (from httpx<0.28.0,>=0.27.0->ollama) (1.0.5)\n",
            "Requirement already satisfied: idna in /Users/colemcintosh/miniconda3/envs/pay-ready-data-science/lib/python3.11/site-packages (from httpx<0.28.0,>=0.27.0->ollama) (3.7)\n",
            "Requirement already satisfied: sniffio in /Users/colemcintosh/miniconda3/envs/pay-ready-data-science/lib/python3.11/site-packages (from httpx<0.28.0,>=0.27.0->ollama) (1.3.1)\n",
            "Requirement already satisfied: h11<0.15,>=0.13 in /Users/colemcintosh/miniconda3/envs/pay-ready-data-science/lib/python3.11/site-packages (from httpcore==1.*->httpx<0.28.0,>=0.27.0->ollama) (0.14.0)\n",
            "Requirement already satisfied: jsonpatch<2.0,>=1.33 in /Users/colemcintosh/miniconda3/envs/pay-ready-data-science/lib/python3.11/site-packages (from langchain-core<0.3,>=0.2.27->langgraph) (1.33)\n",
            "Requirement already satisfied: packaging<25,>=23.2 in /Users/colemcintosh/miniconda3/envs/pay-ready-data-science/lib/python3.11/site-packages (from langchain-core<0.3,>=0.2.27->langgraph) (24.1)\n",
            "Requirement already satisfied: typing-extensions>=4.7 in /Users/colemcintosh/miniconda3/envs/pay-ready-data-science/lib/python3.11/site-packages (from langchain-core<0.3,>=0.2.27->langgraph) (4.12.2)\n",
            "Requirement already satisfied: orjson<4.0.0,>=3.9.14 in /Users/colemcintosh/miniconda3/envs/pay-ready-data-science/lib/python3.11/site-packages (from langsmith<0.2.0,>=0.1.17->langchain) (3.10.6)\n",
            "Requirement already satisfied: annotated-types>=0.4.0 in /Users/colemcintosh/miniconda3/envs/pay-ready-data-science/lib/python3.11/site-packages (from pydantic<3,>=1->langchain) (0.7.0)\n",
            "Requirement already satisfied: pydantic-core==2.20.1 in /Users/colemcintosh/miniconda3/envs/pay-ready-data-science/lib/python3.11/site-packages (from pydantic<3,>=1->langchain) (2.20.1)\n",
            "Requirement already satisfied: charset-normalizer<4,>=2 in /Users/colemcintosh/miniconda3/envs/pay-ready-data-science/lib/python3.11/site-packages (from requests<3,>=2->langchain) (3.3.2)\n",
            "Requirement already satisfied: urllib3<3,>=1.21.1 in /Users/colemcintosh/miniconda3/envs/pay-ready-data-science/lib/python3.11/site-packages (from requests<3,>=2->langchain) (2.2.2)\n",
            "Requirement already satisfied: jsonpointer>=1.9 in /Users/colemcintosh/miniconda3/envs/pay-ready-data-science/lib/python3.11/site-packages (from jsonpatch<2.0,>=1.33->langchain-core<0.3,>=0.2.27->langgraph) (3.0.0)\n"
          ]
        }
      ],
      "source": [
        "!pip install langgraph langchain_ollama langchain ollama"
      ]
    },
    {
      "cell_type": "code",
      "execution_count": null,
      "metadata": {
        "id": "ZQ0EnLLCr2me"
      },
      "outputs": [],
      "source": [
        "from langchain_ollama import ChatOllama\n",
        "from langchain_core.pydantic_v1 import BaseModel, Field\n",
        "from typing import TypedDict\n",
        "\n",
        "llama_8b = ChatOllama(model=\"llama3.1:8b\")\n",
        "\n",
        "class ImageSchema(BaseModel):\n",
        "    creative_title: str = Field(description=\"The creative title of the image\")\n",
        "    subject: str = Field(description=\"The subject of the image\")\n",
        "    colors: list = Field(description=\"The colors in the image\")\n",
        "    setting: str = Field(description=\"The setting of the image\")\n",
        "\n",
        "structured_llama = llama_8b.with_structured_output(ImageSchema)"
      ]
    },
    {
      "cell_type": "code",
      "execution_count": null,
      "metadata": {
        "id": "5X_RpjpMr2me"
      },
      "outputs": [],
      "source": [
        "def extract_data(image_description):\n",
        "    prompt = f\"\"\"\n",
        "    Extract the following data from the image description:\n",
        "    Creative Title (str): a creative title for the image\n",
        "    Subject (str): the subject of the image\n",
        "    Colors (List[str]): the colors in the image\n",
        "    Setting (str): the setting of the image\n",
        "    ---\n",
        "    Image Description: \"{image_description}\"\n",
        "    \"\"\"\n",
        "    return structured_llama.invoke(prompt)"
      ]
    },
    {
      "cell_type": "code",
      "execution_count": null,
      "metadata": {
        "id": "3VzkHuxNr2me"
      },
      "outputs": [],
      "source": [
        "import ollama\n",
        "\n",
        "def describe_image(image_path):\n",
        "\tres = ollama.chat(\n",
        "\t\tmodel=\"moondream\",\n",
        "\t\tmessages=[\n",
        "\t\t\t{\n",
        "\t\t\t\t'role': 'user',\n",
        "\t\t\t\t'content': \"\"\"Describe the image in as much detail as possible.\"\"\"\n",
        "\t\t\t},\n",
        "\t\t\t{\n",
        "\t\t\t\t'images': [image_path]\n",
        "\t\t\t}\n",
        "\t\t]\n",
        "\t)\n",
        "\n",
        "\treturn res['message']['content']"
      ]
    },
    {
      "cell_type": "code",
      "execution_count": null,
      "metadata": {
        "id": "oo-CfGrUr2mf"
      },
      "outputs": [],
      "source": [
        "class AgentState(TypedDict):\n",
        "    image_path: str\n",
        "    image_description: str\n",
        "    image_data: ImageSchema"
      ]
    },
    {
      "cell_type": "code",
      "execution_count": null,
      "metadata": {
        "id": "MygRClgsr2mf"
      },
      "outputs": [],
      "source": [
        "from langgraph.graph import END, StateGraph, START\n",
        "\n",
        "# Define a new graph\n",
        "workflow = StateGraph(AgentState)\n",
        "\n",
        "def generate_description(state):\n",
        "    state['image_description'] = describe_image(state['image_path'])\n",
        "    return state\n",
        "\n",
        "def extract_data(state):\n",
        "    state['image_data'] = structured_llama.invoke(state['image_description'])\n",
        "    return state\n",
        "\n",
        "workflow.add_node('generate_description', generate_description)\n",
        "workflow.add_node('extract_data', extract_data)\n",
        "\n",
        "workflow.add_edge(START, 'generate_description')\n",
        "workflow.add_edge('generate_description', 'extract_data')\n",
        "workflow.add_edge('extract_data', END)\n",
        "\n",
        "agent = workflow.compile()"
      ]
    },
    {
      "cell_type": "code",
      "execution_count": null,
      "metadata": {
        "id": "C-s5ss_er2mf"
      },
      "outputs": [],
      "source": [
        "result = agent.invoke({'image_path': 'sweat_suit_cat.jpeg'})"
      ]
    },
    {
      "cell_type": "code",
      "execution_count": null,
      "metadata": {
        "id": "8WS4waJ6r2mf",
        "outputId": "ee00de1b-5b13-44a9-deb6-905d6e3c3af0"
      },
      "outputs": [
        {
          "name": "stdout",
          "output_type": "stream",
          "text": [
            "{'image_path': 'images/sweat_suit_cat.jpeg', 'image_description': '\\nThe image shows a cat walking down the street in a gray hoodie. The cat appears to be wearing a sweater, giving it an adorable and unique appearance. In the background, there are several people visible on the sidewalk, going about their day. One person is carrying a handbag, while another has a backpack. The scene captures the essence of everyday life in a city setting.', 'image_data': ImageSchema(creative_title='Whiskers on the Move', subject='Cat', colors=['Gray', 'Brown'], setting='City Street')}\n"
          ]
        }
      ],
      "source": [
        "print(result)"
      ]
    },
    {
      "cell_type": "code",
      "execution_count": null,
      "metadata": {
        "id": "j01znyH7r2mf",
        "outputId": "d3016c45-b63e-47ca-f8b2-6825de0130f0"
      },
      "outputs": [
        {
          "name": "stdout",
          "output_type": "stream",
          "text": [
            "Creative Title: Whiskers on the Move\n",
            "Subject: Cat\n",
            "Colors: Gray, Brown\n",
            "Setting: City Street\n"
          ]
        }
      ],
      "source": [
        "print(f\"Creative Title: {result['image_data'].creative_title}\")\n",
        "print(f\"Subject: {result['image_data'].subject}\")\n",
        "print(f\"Colors: {', '.join(result['image_data'].colors)}\")\n",
        "print(f\"Setting: {result['image_data'].setting}\")"
      ]
    }
  ],
  "metadata": {
    "kernelspec": {
      "display_name": "pay-ready-data-science",
      "language": "python",
      "name": "python3"
    },
    "language_info": {
      "codemirror_mode": {
        "name": "ipython",
        "version": 3
      },
      "file_extension": ".py",
      "mimetype": "text/x-python",
      "name": "python",
      "nbconvert_exporter": "python",
      "pygments_lexer": "ipython3",
      "version": "3.11.9"
    },
    "colab": {
      "provenance": [],
      "include_colab_link": true
    }
  },
  "nbformat": 4,
  "nbformat_minor": 0
}